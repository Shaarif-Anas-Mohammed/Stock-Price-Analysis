{
 "cells": [
  {
   "cell_type": "code",
   "execution_count": 19,
   "id": "3e524a47-bf02-4086-ad5e-8b3b8d46c350",
   "metadata": {
    "tags": []
   },
   "outputs": [],
   "source": [
    "import yfinance as yf\n",
    "import pandas as pd\n",
    "import requests\n",
    "from bs4 import BeautifulSoup\n",
    "import plotly.graph_objects as go\n",
    "from plotly.subplots import make_subplots"
   ]
  },
  {
   "cell_type": "code",
   "execution_count": 87,
   "id": "56a40dcd-5c07-4103-adc6-fd3750d5e01d",
   "metadata": {
    "tags": []
   },
   "outputs": [],
   "source": [
    "import warnings\n",
    "# Ignore all warnings\n",
    "warnings.filterwarnings(\"ignore\", category=FutureWarning)"
   ]
  },
  {
   "cell_type": "markdown",
   "id": "efbfebf5-56ef-4d60-8f4b-907cae367cf7",
   "metadata": {},
   "source": [
    "#### In this cell, we define a function make_graph. It takes a dataframe with stock data (Dtae and Closing price), dataframe with revenue data (Date and Revenue incurred) and name of the stock."
   ]
  },
  {
   "cell_type": "code",
   "execution_count": 20,
   "id": "76f62d31-5cab-492f-a10e-b576b8b90221",
   "metadata": {
    "tags": []
   },
   "outputs": [],
   "source": [
    "def make_graph(stock_data, revenue_data, stock):\n",
    "    fig = make_subplots(rows=2, cols=1, shared_xaxes=True, subplot_titles=(\"Historical Share Price\", \"Historical Revenue\"), vertical_spacing = .3)\n",
    "    stock_data_specific = stock_data[stock_data.Date <= '2021--06-14']\n",
    "    revenue_data_specific = revenue_data[revenue_data.Date <= '2021-04-30']\n",
    "    fig.add_trace(go.Scatter(x=pd.to_datetime(stock_data_specific.Date), y=stock_data_specific.Close.astype(\"float\"), name=\"Share Price\"), row=1, col=1)\n",
    "    fig.add_trace(go.Scatter(x=pd.to_datetime(revenue_data_specific.Date), y=revenue_data_specific.Revenue.astype(\"float\"), name=\"Revenue\"), row=2, col=1)\n",
    "    fig.update_xaxes(title_text=\"Date\", row=1, col=1)\n",
    "    fig.update_xaxes(title_text=\"Date\", row=2, col=1)\n",
    "    fig.update_yaxes(title_text=\"Price ($US)\", row=1, col=1)\n",
    "    fig.update_yaxes(title_text=\"Revenue ($US Millions)\", row=2, col=1)\n",
    "    fig.update_layout(showlegend=False,\n",
    "    height=900,\n",
    "    title=stock,\n",
    "    xaxis_rangeslider_visible=True)\n",
    "    fig.show()"
   ]
  },
  {
   "cell_type": "markdown",
   "id": "6d962dda-2fd7-499c-b4f1-576019688236",
   "metadata": {},
   "source": [
    "#### Extracting Stock Data using yfinance library.The yfinance is a Python library with a user-friendly interface for downloading historical market data from Yahoo Finance. It lets you get historical stock prices, dividends, and other financial data for stocks, exchange-traded funds (ETFs), and other securities."
   ]
  },
  {
   "cell_type": "code",
   "execution_count": null,
   "id": "f74a50c8-403b-45a0-82d8-b99357ad7c2a",
   "metadata": {
    "tags": []
   },
   "outputs": [],
   "source": [
    "tesla = yf.Ticker('TSLA')\n",
    "tesla_data = tesla.history(period = 'max')\n",
    "tesla_data.reset_index(inplace = True)\n",
    "tesla_data.head()"
   ]
  },
  {
   "cell_type": "code",
   "execution_count": null,
   "id": "d3e4f0d0-931a-4698-abcd-bc9ead9b803a",
   "metadata": {
    "tags": []
   },
   "outputs": [],
   "source": [
    "gamestop = yf.Ticker('GME')\n",
    "gamestop_data = tesla.history(period = 'max')\n",
    "gamestop_data.reset_index(inplace = True)\n",
    "gamestop_data.head()"
   ]
  },
  {
   "cell_type": "markdown",
   "id": "283f3514-37bd-4665-a3d3-24b132ecca58",
   "metadata": {},
   "source": [
    "#### Web Scraping to extract revenue data and covert it into a dataframe to be able to pass it as a make_graph function argument."
   ]
  },
  {
   "cell_type": "code",
   "execution_count": 129,
   "id": "a8148b8f-7881-4b79-94e4-e8a40008da1f",
   "metadata": {
    "tags": []
   },
   "outputs": [],
   "source": [
    "url_tesla = 'https://cf-courses-data.s3.us.cloud-object-storage.appdomain.cloud/IBMDeveloperSkillsNetwork-PY0220EN-SkillsNetwork/labs/project/revenue.htm'\n",
    "url_gamestop = 'https://cf-courses-data.s3.us.cloud-object-storage.appdomain.cloud/IBMDeveloperSkillsNetwork-PY0220EN-SkillsNetwork/labs/project/stock.html'"
   ]
  },
  {
   "cell_type": "markdown",
   "id": "e3067f71-a75a-4518-a79e-8bcbc02ce88b",
   "metadata": {},
   "source": [
    "##### Define a function web_scrape that takes the url and name of the stock as arguments and returns a dataframe conatining Date and Revenue as its columns ( such that it can be used as an argument for make_graph function defined above)"
   ]
  },
  {
   "cell_type": "markdown",
   "id": "4bfd0f0b-f33d-465a-a64b-9a5b9844f1ca",
   "metadata": {},
   "source": [
    "These are the following tags which are used while creating HTML tables.\n",
    "\n",
    "* &lt;table&gt;: This tag is a root tag used to define the start and end of the table. All the content of the table is enclosed within these tags. \n",
    "\n",
    "\n",
    "* &lt;tr&gt;: This tag is used to define a table row. Each row of the table is defined within this tag.\n",
    "\n",
    "* &lt;td&gt;: This tag is used to define a table cell. Each cell of the table is defined within this tag. You can specify the content of the cell between the opening and closing <td> tags.\n",
    "\n",
    "* &lt;th&gt;: This tag is used to define a header cell in the table. The header cell is used to describe the contents of a column or row. By default, the text inside a <th> tag is bold and centered.\n",
    "\n",
    "* &lt;tbody&gt;: This is the main content of the table, which is defined using the <tbody> tag. It contains one or more rows of <tr> elements."
   ]
  },
  {
   "cell_type": "code",
   "execution_count": 136,
   "id": "64170f7b-535d-496a-967e-64564a0b202e",
   "metadata": {
    "tags": []
   },
   "outputs": [],
   "source": [
    "def web_scrape(url, name):\n",
    "    html_data = requests.get(url).text\n",
    "    soup = BeautifulSoup(html_data, 'html.parser')\n",
    "    \n",
    "    ''' This for loop, loops through all the tables and matches a table with table header \n",
    "    as name + Quarterly Revenue and stores the index of the matched table in 'i' '''\n",
    "    \n",
    "    for i in range(len(soup.find_all('table'))):\n",
    "        if name + ' Quarterly Revenue' in soup.find_all('table')[i].find('th'): \n",
    "            break\n",
    "        else: continue\n",
    "\n",
    "    revenue_table = pd.DataFrame(columns = [\"Date\", \"Revenue\"])\n",
    "\n",
    "    ''' First we find the table table with index 'i' (i.e,. with header as name + Quarterly Revenue ) , find its body and \n",
    "    return all the rows and then loop through each row to extract date and revenue'''\n",
    "    \n",
    "    for row in soup.find_all('table')[i].find('tbody').find_all('tr'):\n",
    "        col = row.find_all('td')\n",
    "        date = col[0].text\n",
    "        revenue = col[1].text\n",
    "    \n",
    "        revenue_table = pd.concat([revenue_table, pd.DataFrame({'Date' : [date], 'Revenue' : [revenue]})], ignore_index=True)\n",
    "\n",
    "    revenue_table[\"Revenue\"] = revenue_table['Revenue'].str.replace(',|\\$',\"\")\n",
    "    revenue_table.dropna(inplace=True)\n",
    "    revenue_table = revenue_table[revenue_table['Revenue'] != \"\"]\n",
    "\n",
    "    return revenue_table"
   ]
  },
  {
   "cell_type": "code",
   "execution_count": 132,
   "id": "0ab25283-5f5d-4479-ac7c-3ec07532fde2",
   "metadata": {
    "tags": []
   },
   "outputs": [],
   "source": [
    "tesla_revenue = web_scrape(url_tesla, 'Tesla')\n",
    "gamestop_revenue = web_scrape(url_gamestop, 'GameStop')"
   ]
  },
  {
   "cell_type": "code",
   "execution_count": null,
   "id": "65059324-d808-4e3a-8143-03a8588fe09c",
   "metadata": {
    "tags": []
   },
   "outputs": [],
   "source": [
    "make_graph(tesla_data, tesla_revenue, 'Tesla')"
   ]
  },
  {
   "cell_type": "code",
   "execution_count": null,
   "id": "08434e93-bb63-419d-bd3d-6b533de35184",
   "metadata": {
    "tags": []
   },
   "outputs": [],
   "source": [
    "make_graph(gamestop_data, gamestop_revenue, 'GameStop')"
   ]
  }
 ],
 "metadata": {
  "kernelspec": {
   "display_name": "Python 3 (ipykernel)",
   "language": "python",
   "name": "python3"
  },
  "language_info": {
   "codemirror_mode": {
    "name": "ipython",
    "version": 3
   },
   "file_extension": ".py",
   "mimetype": "text/x-python",
   "name": "python",
   "nbconvert_exporter": "python",
   "pygments_lexer": "ipython3",
   "version": "3.11.4"
  }
 },
 "nbformat": 4,
 "nbformat_minor": 5
}
